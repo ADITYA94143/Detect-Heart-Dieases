{
 "cells": [
  {
   "cell_type": "markdown",
   "id": "0b71988f",
   "metadata": {},
   "source": [
    "\n",
    "# Final Heart Disease Prediction Project\n",
    "\n",
    "This notebook uses your provided dataset (1190 rows) to train ML models for heart disease prediction.\n"
   ]
  },
  {
   "cell_type": "code",
   "execution_count": null,
   "id": "dddeb4a8",
   "metadata": {},
   "outputs": [],
   "source": [
    "\n",
    "import pandas as pd\n",
    "import numpy as np\n",
    "import matplotlib.pyplot as plt\n",
    "from pathlib import Path\n",
    "\n",
    "from sklearn.model_selection import train_test_split, cross_val_score\n",
    "from sklearn.preprocessing import OneHotEncoder, StandardScaler\n",
    "from sklearn.compose import ColumnTransformer\n",
    "from sklearn.pipeline import Pipeline\n",
    "from sklearn.linear_model import LogisticRegression\n",
    "from sklearn.ensemble import RandomForestClassifier\n",
    "from sklearn.metrics import (accuracy_score, precision_score, recall_score, f1_score,\n",
    "                             roc_auc_score, roc_curve, confusion_matrix, ConfusionMatrixDisplay)\n",
    "from sklearn.impute import SimpleImputer\n",
    "import joblib\n",
    "\n",
    "pd.set_option('display.max_columns', None)\n",
    "\n",
    "DATA_PATH = Path(\"data/heart.csv\")\n",
    "RANDOM_STATE = 42\n",
    "\n",
    "# Load dataset\n",
    "df = pd.read_csv(DATA_PATH)\n",
    "print(\"Original shape:\", df.shape)\n",
    "df.head()\n"
   ]
  },
  {
   "cell_type": "markdown",
   "id": "910dd873",
   "metadata": {},
   "source": [
    "\n",
    "## 1) Data Cleaning  \n",
    "Your dataset has slightly different column names. Let's rename them to a standardized format.\n"
   ]
  },
  {
   "cell_type": "code",
   "execution_count": null,
   "id": "255abc63",
   "metadata": {},
   "outputs": [],
   "source": [
    "\n",
    "rename_map = {\n",
    "    \"age\": \"age\",\n",
    "    \"sex\": \"sex\",\n",
    "    \"chest pain type\": \"chest_pain_type\",\n",
    "    \"resting bp s\": \"resting_bp\",\n",
    "    \"cholesterol\": \"serum_cholesterol\",\n",
    "    \"fasting blood sugar\": \"fasting_blood_sugar\",\n",
    "    \"resting ecg\": \"resting_ecg\",\n",
    "    \"max heart rate\": \"max_heart_rate\",\n",
    "    \"exercise angina\": \"exercise_angina\",\n",
    "    \"oldpeak\": \"oldpeak\",\n",
    "    \"ST slope\": \"st_slope\",\n",
    "    \"target\": \"target\"\n",
    "}\n",
    "df = df.rename(columns=rename_map)\n",
    "print(\"Renamed columns:\", df.columns.tolist())\n",
    "df.head()\n"
   ]
  },
  {
   "cell_type": "markdown",
   "id": "79ed812a",
   "metadata": {},
   "source": [
    "\n",
    "## 2) Exploratory Data Analysis (EDA)\n"
   ]
  },
  {
   "cell_type": "code",
   "execution_count": null,
   "id": "8e361bf4",
   "metadata": {},
   "outputs": [],
   "source": [
    "\n",
    "print(\"Shape:\", df.shape)\n",
    "print(\"\\nClass balance:\")\n",
    "print(df['target'].value_counts(normalize=True).round(3))\n",
    "\n",
    "display(df.describe())\n"
   ]
  },
  {
   "cell_type": "code",
   "execution_count": null,
   "id": "f0bbd803",
   "metadata": {},
   "outputs": [],
   "source": [
    "\n",
    "# Age distribution\n",
    "df['age'].hist(bins=20)\n",
    "plt.title(\"Age Distribution\")\n",
    "plt.xlabel(\"Age\")\n",
    "plt.ylabel(\"Count\")\n",
    "plt.show()\n"
   ]
  },
  {
   "cell_type": "markdown",
   "id": "8ad68319",
   "metadata": {},
   "source": [
    "\n",
    "## 3) Preprocessing & Train-Test Split\n"
   ]
  },
  {
   "cell_type": "code",
   "execution_count": null,
   "id": "2e508417",
   "metadata": {},
   "outputs": [],
   "source": [
    "\n",
    "X = df.drop(columns=['target'])\n",
    "y = df['target']\n",
    "\n",
    "numeric_features = ['age', 'resting_bp', 'serum_cholesterol', 'max_heart_rate', 'oldpeak']\n",
    "categorical_features = ['sex', 'chest_pain_type', 'fasting_blood_sugar', 'resting_ecg', 'exercise_angina', 'st_slope']\n",
    "\n",
    "numeric_transformer = Pipeline(steps=[\n",
    "    ('imputer', SimpleImputer(strategy='median')),\n",
    "    ('scaler', StandardScaler())\n",
    "])\n",
    "\n",
    "categorical_transformer = Pipeline(steps=[\n",
    "    ('imputer', SimpleImputer(strategy='most_frequent')),\n",
    "    ('onehot', OneHotEncoder(handle_unknown='ignore'))\n",
    "])\n",
    "\n",
    "preprocess = ColumnTransformer(\n",
    "    transformers=[\n",
    "        ('num', numeric_transformer, numeric_features),\n",
    "        ('cat', categorical_transformer, categorical_features)\n",
    "    ]\n",
    ")\n",
    "\n",
    "X_train, X_test, y_train, y_test = train_test_split(\n",
    "    X, y, test_size=0.2, stratify=y, random_state=RANDOM_STATE\n",
    ")\n",
    "X_train.shape, X_test.shape\n"
   ]
  },
  {
   "cell_type": "markdown",
   "id": "87fa991a",
   "metadata": {},
   "source": [
    "\n",
    "## 4) Train Logistic Regression\n"
   ]
  },
  {
   "cell_type": "code",
   "execution_count": null,
   "id": "58b83fa8",
   "metadata": {},
   "outputs": [],
   "source": [
    "\n",
    "log_reg = Pipeline(steps=[\n",
    "    ('preprocess', preprocess),\n",
    "    ('clf', LogisticRegression(max_iter=300, class_weight='balanced', random_state=RANDOM_STATE))\n",
    "])\n",
    "\n",
    "log_reg.fit(X_train, y_train)\n",
    "y_pred_lr = log_reg.predict(X_test)\n",
    "y_prob_lr = log_reg.predict_proba(X_test)[:,1]\n",
    "\n",
    "metrics_lr = {\n",
    "    'accuracy': accuracy_score(y_test, y_pred_lr),\n",
    "    'precision': precision_score(y_test, y_pred_lr),\n",
    "    'recall': recall_score(y_test, y_pred_lr),\n",
    "    'f1': f1_score(y_test, y_pred_lr),\n",
    "    'roc_auc': roc_auc_score(y_test, y_prob_lr)\n",
    "}\n",
    "metrics_lr\n"
   ]
  },
  {
   "cell_type": "markdown",
   "id": "f0dce78c",
   "metadata": {},
   "source": [
    "\n",
    "## 5) Train RandomForest\n"
   ]
  },
  {
   "cell_type": "code",
   "execution_count": null,
   "id": "6b4dc874",
   "metadata": {},
   "outputs": [],
   "source": [
    "\n",
    "rf = Pipeline(steps=[\n",
    "    ('preprocess', preprocess),\n",
    "    ('clf', RandomForestClassifier(n_estimators=300, class_weight='balanced', random_state=RANDOM_STATE))\n",
    "])\n",
    "\n",
    "rf.fit(X_train, y_train)\n",
    "y_pred_rf = rf.predict(X_test)\n",
    "y_prob_rf = rf.predict_proba(X_test)[:,1]\n",
    "\n",
    "metrics_rf = {\n",
    "    'accuracy': accuracy_score(y_test, y_pred_rf),\n",
    "    'precision': precision_score(y_test, y_pred_rf),\n",
    "    'recall': recall_score(y_test, y_pred_rf),\n",
    "    'f1': f1_score(y_test, y_pred_rf),\n",
    "    'roc_auc': roc_auc_score(y_test, y_prob_rf)\n",
    "}\n",
    "metrics_rf\n"
   ]
  },
  {
   "cell_type": "markdown",
   "id": "09415db4",
   "metadata": {},
   "source": [
    "\n",
    "## 6) Evaluation Plots\n"
   ]
  },
  {
   "cell_type": "code",
   "execution_count": null,
   "id": "59339016",
   "metadata": {},
   "outputs": [],
   "source": [
    "\n",
    "# ROC curve\n",
    "fpr_lr, tpr_lr, _ = roc_curve(y_test, y_prob_lr)\n",
    "fpr_rf, tpr_rf, _ = roc_curve(y_test, y_prob_rf)\n",
    "\n",
    "plt.plot(fpr_lr, tpr_lr, label=f\"LogReg (AUC={metrics_lr['roc_auc']:.3f})\")\n",
    "plt.plot(fpr_rf, tpr_rf, label=f\"RF (AUC={metrics_rf['roc_auc']:.3f})\")\n",
    "plt.plot([0,1],[0,1],'--')\n",
    "plt.xlabel(\"False Positive Rate\")\n",
    "plt.ylabel(\"True Positive Rate\")\n",
    "plt.legend()\n",
    "plt.show()\n"
   ]
  },
  {
   "cell_type": "code",
   "execution_count": null,
   "id": "23321b27",
   "metadata": {},
   "outputs": [],
   "source": [
    "\n",
    "# Confusion matrices\n",
    "ConfusionMatrixDisplay.from_predictions(y_test, y_pred_lr)\n",
    "plt.title(\"Confusion Matrix - Logistic Regression\")\n",
    "plt.show()\n",
    "\n",
    "ConfusionMatrixDisplay.from_predictions(y_test, y_pred_rf)\n",
    "plt.title(\"Confusion Matrix - RandomForest\")\n",
    "plt.show()\n"
   ]
  },
  {
   "cell_type": "markdown",
   "id": "9418d33f",
   "metadata": {},
   "source": [
    "\n",
    "## 7) Export Best Model\n"
   ]
  },
  {
   "cell_type": "code",
   "execution_count": null,
   "id": "5603ad10",
   "metadata": {},
   "outputs": [],
   "source": [
    "\n",
    "best_model = rf if metrics_rf['roc_auc'] >= metrics_lr['roc_auc'] else log_reg\n",
    "best_name = \"RandomForest\" if best_model is rf else \"LogisticRegression\"\n",
    "print(\"Best model:\", best_name)\n",
    "\n",
    "MODEL_PATH = Path(\"data/model.joblib\")\n",
    "joblib.dump(best_model, MODEL_PATH)\n",
    "print(\"Saved model to\", MODEL_PATH)\n"
   ]
  },
  {
   "cell_type": "markdown",
   "id": "de37841c",
   "metadata": {},
   "source": [
    "\n",
    "## 8) Inference Helper\n"
   ]
  },
  {
   "cell_type": "code",
   "execution_count": null,
   "id": "98e3b006",
   "metadata": {},
   "outputs": [],
   "source": [
    "\n",
    "def predict_one(patient_dict):\n",
    "    model = joblib.load(MODEL_PATH)\n",
    "    X_one = pd.DataFrame([patient_dict])\n",
    "    prob = model.predict_proba(X_one)[0,1]\n",
    "    label = int(prob >= 0.5)\n",
    "    return prob, label\n",
    "\n",
    "# Example usage:\n",
    "example = {\n",
    "    'age': 54,\n",
    "    'sex': 1,\n",
    "    'chest_pain_type': 4,\n",
    "    'resting_bp': 140,\n",
    "    'serum_cholesterol': 260,\n",
    "    'fasting_blood_sugar': 0,\n",
    "    'resting_ecg': 1,\n",
    "    'max_heart_rate': 150,\n",
    "    'exercise_angina': 1,\n",
    "    'oldpeak': 1.2,\n",
    "    'st_slope': 2\n",
    "}\n",
    "predict_one(example)\n"
   ]
  }
 ],
 "metadata": {},
 "nbformat": 4,
 "nbformat_minor": 5
}
